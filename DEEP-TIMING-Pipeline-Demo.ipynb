{
 "cells": [
  {
   "cell_type": "code",
   "execution_count": 1,
   "metadata": {},
   "outputs": [],
   "source": [
    "# Import Packages\n",
    "import sys, time"
   ]
  },
  {
   "cell_type": "code",
   "execution_count": 2,
   "metadata": {},
   "outputs": [],
   "source": [
    "# Include PATHS\n",
    "DEEP_TIMING_HOME = \"/path_to_DT_repo\"\n",
    "\n",
    "MRCNN_HOME = DEEP_TIMING_HOME + 'DT2-detector/Cell_Instances/'\n",
    "\n",
    "sys.path.append(DEEP_TIMING_HOME + 'DT1-preprocessor/')\n",
    "\n",
    "sys.path.append(DEEP_TIMING_HOME + 'DT2-detector/Well/')\n",
    "sys.path.append(DEEP_TIMING_HOME + 'DT2-detector/Well/faster-rcnn/')\n",
    "\n",
    "sys.path.append(DEEP_TIMING_HOME + 'DT2-detector/Cell')\n",
    "\n",
    "sys.path.append(DEEP_TIMING_HOME + 'DT2-detector/Cell_Instances/')\n",
    "\n",
    "sys.path.append(DEEP_TIMING_HOME + 'DT3-tracker/')\n",
    "\n",
    "sys.path.append(DEEP_TIMING_HOME + 'DT4-feature/')"
   ]
  },
  {
   "cell_type": "code",
   "execution_count": 3,
   "metadata": {},
   "outputs": [],
   "source": [
    "# STEP 0: Specify Parameters for experiments\n",
    "CORES = 20\n",
    "\n",
    "#Make Changes in the following lines per dataset------------------------------------------------------------------\n",
    "#Dataset Name: \n",
    "DATASET = \"20181220_MF_NKCas9_Raji_Killing\"\n",
    "\n",
    "#Path to raw data: \n",
    "RAW_INPUT_PATH = \"/brazos/varadarajan/arezvan/Deep-TIMING_n/Data/\"\n",
    "\n",
    "#Path to saved results \n",
    "OUTPUT_PATH = \"/brazos/varadarajan/mamart51/Deep-TIMING_new/Data/results3/\"\n",
    "\n",
    "#Choose if we would like to use mrcnn-based segmentation, or simply cell detection: \n",
    "seg='no' #no or n for faster r-cnn cell detection only, or y or yes for mrcnn-based segmentation  \n",
    "\n",
    "#----------------------------------------------------------------------------------------------------------------\n",
    "microscope = 'zeiss'\n",
    "#CH0 : phase_contrast\n",
    "#CH1 : effectors\n",
    "#CH2 : targets\n",
    "#CH3 : death\n",
    "channel_index_dict = {\"c1_ORG\":\"CH0\", \"c2_ORG\":\"CH3\", \"c3_ORG\":\"CH2\", \"c4_ORG\":\"CH1\"}\n",
    "channel_name_dict = {\"c1_ORG\":\"phase_contrast\", \"c2_ORG\":\"death\", \"c3_ORG\":\"targets\", \"c4_ORG\":\"effectors\"}\n",
    "\n",
    "\n",
    "\n",
    "# Input and Output Data Type:\n",
    "Input_Type = \"uint16\" # or \"uint8\"\n",
    "Output_Type = {\"uint8\": ['c1_ORG', 'c2_ORG', 'c3_ORG', 'c4_ORG'], \"uint16\":['c2_ORG',]}\n",
    "#Output_Type = {\"uint8\": ['c3_ORG',], \"uint16\":['c3_ORG',]}\n",
    "\n",
    "# GAMMA = ['c2_ORG']\n",
    "GAMMA = []\n",
    "NUM_DIGITS = 3\n",
    "#range(1,4)+range(5,9)+range(10,23)+range(24,89)+range(90,132)\n",
    "block_list = range(5,9)+range(10,23)+range(24,89)+range(90,132)\n",
    "BLOCKS = ['B'+str(i).zfill(NUM_DIGITS) for i in block_list]\n",
    "MAX_NANOWELL_PER_BLOCK = 36\n",
    "FRAMES = 73\n",
    "Block_Size = 2048\n",
    "Nanowell_Size = 281\n",
    "\n",
    "\n",
    "\n",
    "\n",
    "# A. Preprocessing Pipeline\n",
    "UMX_Channel = [['c3_ORG','c2_ORG', 0.95], ['c4_ORG', 'c3_ORG', 0.2]]   # Args0 - Args1 * Args2\n",
    "BKG_Channel = []\n",
    "# ENHANCE_Channel = ['c2_ORG', 'c3_ORG', 'c4_ORG']\n",
    "\n",
    "# B. Cell Detector Config\n",
    "Channel_Mix = ['CH0','CH1','CH2'] # Mix Channels for cell detection, e.g. CH0+CH1+CH2\n",
    "Cell_Detector_Type = 'FRCNN-Fast' # Other Options include [1]'FRCNN-Slow' or [2]'SSD'\n",
    "\n",
    "# C. Cell Tracker Config\n",
    "Cell_Tracker_Type = 'EZ' # Other options include [1]'EZ'\n",
    "\n",
    "# D. Feature Calculation Config\n",
    "Effector_Max_Number = 4\n",
    "Target_Max_Number = 4\n",
    "Effector_Feature_List = ['x', 'y', 'AR', 'SPEED', 'DM']\n",
    "Target_Feature_List = ['x', 'y', 'AR', 'SPEED', 'CR', 'DM']\n",
    "CNN_LSTM_DM = 'True'\n"
   ]
  },
  {
   "cell_type": "code",
   "execution_count": null,
   "metadata": {},
   "outputs": [],
   "source": [
    "# Initialize the output folders\n",
    "from DT_Init import *\n",
    "\n",
    "t1 = time.time()\n",
    "\n",
    "DATASET_PATH = OUTPUT_PATH + DATASET + '/'\n",
    "\n",
    "DT_Initializer(DATASET_PATH, BLOCKS, CORES)\n",
    "\n",
    "print(\"Initialization Time Cost: \" + str(time.time() - t1 ))"
   ]
  },
  {
   "cell_type": "code",
   "execution_count": null,
   "metadata": {},
   "outputs": [],
   "source": [
    "# from DT_Init import *\n",
    "\n",
    "# DATASET_PATH = OUTPUT_PATH + DATASET + '/'\n",
    "\n",
    "# DT_Reset(DATASET_PATH)"
   ]
  },
  {
   "cell_type": "code",
   "execution_count": null,
   "metadata": {},
   "outputs": [],
   "source": [
    "# STEP 1: Detect Nanowells\n",
    "# Get the sample CH0 Image from each Block, Convert it to 8 bit\n",
    "from generate_CH0_Sample import *\n",
    "\n",
    "t1 = time.time()\n",
    "\n",
    "generate_CH0_samples_master(RAW_INPUT_PATH, OUTPUT_PATH, DATASET, BLOCKS, microscope, CORES)\n",
    "\n",
    "print(\"CH0 Sample Preparation Time Cost: \" + str(time.time() - t1 ))\n",
    "\n"
   ]
  },
  {
   "cell_type": "code",
   "execution_count": null,
   "metadata": {},
   "outputs": [],
   "source": [
    "# Run Nanowell Detection with each Image, save the results\n",
    "from nanowell_detector import detect_nanowells\n",
    "\n",
    "t1 = time.time()\n",
    "\n",
    "PATH_TO_CKPT=DEEP_TIMING_HOME + 'DT2-detector/Well/faster-rcnn/experiment2/models/frozen_inference_graph.pb'\n",
    "PATH_TO_LABELS=DEEP_TIMING_HOME + 'DT2-detector/Well/faster-rcnn/experiment2/data/TIMING_nanowell_detection.pbtxt'\n",
    "PATH_TO_OUTPUT_DIR = OUTPUT_PATH + DATASET + '/'\n",
    "\n",
    "detect_nanowells(PATH_TO_CKPT, PATH_TO_LABELS, PATH_TO_OUTPUT_DIR, BLOCKS, Nanowell_Number=36, BLOCK_SIZE=2048)\n",
    "\n",
    "print(\"CH0 Sample Preparation Time Cost: \" + str(time.time() - t1 ))"
   ]
  },
  {
   "cell_type": "code",
   "execution_count": null,
   "metadata": {},
   "outputs": [],
   "source": [
    "# STEP 2.1: Preprocessing Steps if necessary(umx, bg, enhance)\n",
    "from DT_Preprocessor import *\n",
    "\n",
    "t1 = time.time()\n",
    "\n",
    "DT_UNMIX(DEEP_TIMING_HOME, RAW_INPUT_PATH, OUTPUT_PATH, DATASET, BLOCKS, FRAMES, UMX_Channel, CORES)\n",
    "\n",
    "print(\"STEP-2 UNMIXING TIME COST: \" + str(time.time() - t1))"
   ]
  },
  {
   "cell_type": "code",
   "execution_count": null,
   "metadata": {},
   "outputs": [],
   "source": [
    "# STEP 2.2: ENHANCE Steps\n",
    "# min_clip_value = 315\n",
    "# max_clip_value = 1000\n",
    "# min_pixel_value = 0\n",
    "# max_pixel_value = 2000\n",
    "\n",
    "\n",
    "# ENHANCE_Channel = [\"c2_ORG\"]\n",
    "# ENHANCE_Parameter = [min_pixel_value, max_pixel_value, min_clip_value, max_clip_value]\n",
    "\n",
    "# from DT_Preprocessor import *\n",
    "\n",
    "# t1 = time.time()\n",
    "\n",
    "# DT_CLIP_ENHANCE(DEEP_TIMING_HOME, RAW_INPUT_PATH, OUTPUT_PATH, DATASET, BLOCKS, FRAMES, ENHANCE_Channel, ENHANCE_Parameter,CORES)\n",
    "\n",
    "# print(\"STEP-2.2 ENHANCE TIME COST: \" + str(time.time() - t1))"
   ]
  },
  {
   "cell_type": "code",
   "execution_count": null,
   "metadata": {},
   "outputs": [],
   "source": [
    "# STEP 3: Crop the images, put them in Bxxx/images/crop_8bit_s or Bxxx/images/crop_16bit_s\n",
    "from nanowell_cropper import *\n",
    "\n",
    "t1 = time.time()\n",
    "\n",
    "CLIP_ARGS = {\"c1_ORG\":[2000, 20000],\"c2_ORG\":[160, 180],\"c3_ORG\":[100, 800],\"c4_ORG\":[250, 1000]}\n",
    "\n",
    "DT_CROP_IMAGES(RAW_INPUT_PATH, OUTPUT_PATH, DATASET, BLOCKS, FRAMES, Output_Type, channel_index_dict, CORES, Nanowell_Size, Block_Size, CLIP_ARGS, GAMMA)\n",
    "\n",
    "print(\"STEP-3 IMAGE CROP TIME COST: \" + str(time.time() - t1))"
   ]
  },
  {
   "cell_type": "code",
   "execution_count": null,
   "metadata": {
    "scrolled": false
   },
   "outputs": [
    {
     "name": "stdout",
     "output_type": "stream",
     "text": [
      "Detecting Cells in B005 ...... \n",
      "Detecting Cells in B006 ...... \n"
     ]
    }
   ],
   "source": [
    "# STEP 4.1: Cell Detection, including Channel mixing, cell detection, bboxes cleaning\n",
    "if seg == 'n' or seg =='no': # if we choose not to do segmentation \n",
    "    from DT_Cell_Detector import *\n",
    "\n",
    "    CH_MIX = ['CH0', 'CH1', 'CH2']\n",
    "    Detector_Type = 'FRCNN-Fast'\n",
    "    MAXIMUM_CELL_DETECTED = 10\n",
    "\n",
    "    t1 = time.time()\n",
    "\n",
    "    DT_Cell_Detector(DEEP_TIMING_HOME, OUTPUT_PATH, DATASET, BLOCKS, FRAMES, CH_MIX, Detector_Type, MAXIMUM_CELL_DETECTED, Nanowell_Size, CORES)\n",
    "\n",
    "elif seg =='y' or seg =='yes': #we choose to do segmentation \n",
    "    logs = MRCNN_HOME + 'logs/' #denote log directory \n",
    "    #load the weights: if you change experiments, this weight file must change\n",
    "    weights =os.path.join(MRCNN_HOME, 'weights', 'mask_rcnn_nucleus_0081.h5')  \n",
    "\n",
    "    from detect_mrcnn import * # import all functions from this script \n",
    "\n",
    "    t1 = time.time()\n",
    "\n",
    "    initialise( os.path.join(OUTPUT_PATH, DATASET), DATASET, BLOCKS, logs, weights)\n",
    "\n",
    "    os.chdir(DEEP_TIMING_HOME)\n",
    "    \n",
    "print(\"STEP-4 CELL DETECTION TIME COST: \" + str(time.time() - t1))"
   ]
  },
  {
   "cell_type": "code",
   "execution_count": null,
   "metadata": {},
   "outputs": [],
   "source": [
    "# STEP 4.2: Cell Detection Confinement Constraint\n",
    "from DT_Cell_Detection_Cleaner import *\n",
    "\n",
    "t1 = time.time()\n",
    "\n",
    "CC_THRESHOLD = 0.70\n",
    "SCORE_THRESHOLD = 0.70\n",
    "MAX_E_COUNT = 4\n",
    "MAX_T_COUNT = 4\n",
    "Detector_Type = 'FRCNN-Fast'\n",
    "\n",
    "DT_Cell_Cleaner(OUTPUT_PATH, DATASET, BLOCKS, FRAMES, CC_THRESHOLD, SCORE_THRESHOLD, MAX_E_COUNT, MAX_T_COUNT, Detector_Type, CORES)\n",
    "\n",
    "print(\"STEP-4.2 CELL DETECTION CLEANING TIME COST: \" + str(time.time() - t1))"
   ]
  },
  {
   "cell_type": "code",
   "execution_count": null,
   "metadata": {},
   "outputs": [],
   "source": [
    "# # STEP 5.2: Cell Tracking, options for EZ_track and SIAMESE_track\n",
    "from DT_EZ_Tracker import *\n",
    "\n",
    "Cell_Tracker_Type = 'EZ'\n",
    "\n",
    "DETECTOR_TYPE = Cell_Detector_Type\n",
    "TRACKER_TYPE = Cell_Tracker_Type\n",
    "\n",
    "t1 = time.time()\n",
    "\n",
    "if Cell_Tracker_Type == 'EZ':\n",
    "    for BLOCK in BLOCKS:\n",
    "        print('CELL TRACKING for ' + BLOCK + '......')\n",
    "        DT_EZ_TRACKER(OUTPUT_PATH, DATASET, BLOCK, FRAMES, DETECTOR_TYPE, TRACKER_TYPE, CORES)\n",
    "    \n",
    "print(\"STEP-5 CELL TRACKING TIME COST: \" + str(time.time() - t1))    "
   ]
  },
  {
   "cell_type": "code",
   "execution_count": null,
   "metadata": {},
   "outputs": [],
   "source": [
    "# STEP 6: Feature Calculation, including CNN-LSTM Model/Apoptosis Intensity calculation using CH3\n",
    "\n",
    "from DT_FEATURE_WIZARD import *\n",
    "\n",
    "DETECTOR_TYPE = Cell_Detector_Type\n",
    "TRACKER_TYPE = Cell_Tracker_Type\n",
    "\n",
    "Effector_Max_Number = 3\n",
    "Target_Max_Number = 3\n",
    "Effector_Feature_List = ['x', 'y', 'AR', 'SPEED', 'DM']\n",
    "Target_Feature_List = ['x', 'y', 'AR', 'SPEED', 'CR', 'DM']\n",
    "\n",
    "PARAMETER = [Effector_Max_Number, Effector_Feature_List, Target_Max_Number, Target_Feature_List]\n",
    "\n",
    "t1 = time.time()\n",
    "\n",
    "for BLOCK in BLOCKS:\n",
    "    print('FEATURE CALCULATION for ' + BLOCK + '......')\n",
    "    DT_FEATURE_EXTRACTOR(OUTPUT_PATH, DATASET, BLOCK, FRAMES, DETECTOR_TYPE, TRACKER_TYPE, PARAMETER, CORES)\n",
    "    \n",
    "generate_combined_feat_table(OUTPUT_PATH, DATASET, BLOCKS, FRAMES, DETECTOR_TYPE)\n",
    "    \n",
    "print(\"STEP-6 CELL FEATURE CALCULATION TIME COST: \" + str(time.time() - t1))   "
   ]
  },
  {
   "cell_type": "code",
   "execution_count": null,
   "metadata": {},
   "outputs": [],
   "source": [
    "# STEP 6b: expanded feature calculation \n",
    "\n",
    "\n",
    "save_path = OTUPUT_PATH + DATASET + '/features/'\n",
    "\n",
    "from DT_FEATURE_WIZZARD_EXPANDED import * \n",
    "\n",
    "t1 = time.time()\n",
    "\n",
    "for BLOCK in BLOCKS:\n",
    "    print('FEATURE CALCULATION for ' + BLOCK + '......')\n",
    "    DT_FEATURE_EXTRACTOR_(OUTPUT_PATH, DATASET, BLOCK, FRAMES, DETECTOR_TYPE, TRACKER_TYPE, PARAMETER, CORES, seg)\n",
    "    \n",
    "generate_combined_feat_table_5by5(OUTPUT_PATH, DATASET, BLOCKS, FRAMES, DETECTOR_TYPE, save_path)\n",
    "\n",
    "print(\"STEP-6b CELL FEATURE CALCULATION TIME COST: \" + str(time.time() - t1))   "
   ]
  },
  {
   "cell_type": "code",
   "execution_count": null,
   "metadata": {},
   "outputs": [],
   "source": []
  },
  {
   "cell_type": "code",
   "execution_count": null,
   "metadata": {},
   "outputs": [],
   "source": []
  },
  {
   "cell_type": "code",
   "execution_count": null,
   "metadata": {},
   "outputs": [],
   "source": []
  },
  {
   "cell_type": "code",
   "execution_count": null,
   "metadata": {},
   "outputs": [],
   "source": []
  },
  {
   "cell_type": "code",
   "execution_count": null,
   "metadata": {},
   "outputs": [],
   "source": []
  }
 ],
 "metadata": {
  "kernelspec": {
   "display_name": "Python 3",
   "language": "python",
   "name": "python3"
  },
  "language_info": {
   "codemirror_mode": {
    "name": "ipython",
    "version": 3
   },
   "file_extension": ".py",
   "mimetype": "text/x-python",
   "name": "python",
   "nbconvert_exporter": "python",
   "pygments_lexer": "ipython3",
   "version": "3.8.5"
  }
 },
 "nbformat": 4,
 "nbformat_minor": 2
}
